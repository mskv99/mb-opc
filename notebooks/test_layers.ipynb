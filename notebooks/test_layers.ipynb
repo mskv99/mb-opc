{
 "cells": [
  {
   "cell_type": "code",
   "execution_count": null,
   "metadata": {},
   "outputs": [],
   "source": [
    "!pwd"
   ]
  },
  {
   "cell_type": "code",
   "execution_count": 4,
   "metadata": {},
   "outputs": [
    {
     "name": "stdout",
     "output_type": "stream",
     "text": [
      "/workarea/otdMDP/users/amoskovtsev/Pycharm_proj/MB_OPC/custom_unet\n"
     ]
    }
   ],
   "source": [
    "%cd .."
   ]
  },
  {
   "cell_type": "code",
   "execution_count": 88,
   "metadata": {},
   "outputs": [
    {
     "name": "stdout",
     "output_type": "stream",
     "text": [
      "Dataset size:{'train': 28796, 'val': 3230}\n",
      "Class names:['correction', 'origin']\n"
     ]
    }
   ],
   "source": [
    "import cv2\n",
    "import torch\n",
    "import random\n",
    "import numpy as np\n",
    "import torch.nn as nn\n",
    "import torch.optim as optim\n",
    "from tqdm import tqdm\n",
    "import torch.optim.lr_scheduler as lr_sched\n",
    "from torchvision import transforms, datasets\n",
    "from torchinfo import summary\n",
    "from torch.utils.data import DataLoader\n",
    "import matplotlib.pyplot as plt\n",
    "import logging\n",
    "import time\n",
    "import sys\n",
    "import os\n",
    "\n",
    "from src.utils import next_exp_folder, draw_plot\n",
    "from src.dataset import OPCDataset, BinarizeTransform, calculate_mean_std, apply_transform\n",
    "from src.config import DATASET_PATH, CHECKPOINT_PATH, BATCH_SIZE, EPOCHS, LEARNING_RATE\n",
    "\n",
    "def set_random_seed(seed):\n",
    "  torch.manual_seed(seed)\n",
    "  torch.cuda.manual_seed(seed)\n",
    "  torch.backends.cudnn.deterministic = True\n",
    "  torch.backends.cudnn.benchmark = False\n",
    "  np.random.seed(seed)\n",
    "  random.seed(seed)\n",
    "\n",
    "set_random_seed(42)\n",
    "\n",
    "def setup_logging(exp_folder):\n",
    "  # Set up logging configuration\n",
    "  log_file_path = os.path.join(exp_folder, 'training_log.txt')\n",
    "  logging.basicConfig(filename = log_file_path,\n",
    "                      level = logging.INFO,\n",
    "                      datefmt = '%d/%m/%Y %H:%M')\n",
    "\n",
    "\n",
    "data_transforms = {\n",
    "  'train': transforms.Compose([\n",
    "    transforms.Resize(1024),\n",
    "    transforms.ToTensor(),\n",
    "    transforms.Grayscale(),\n",
    "    BinarizeTransform(threshold=0.5)\n",
    "  ]),\n",
    "  'val': transforms.Compose([\n",
    "    transforms.Resize(1024),\n",
    "    transforms.ToTensor(),\n",
    "    transforms.Grayscale(),\n",
    "    BinarizeTransform(threshold=0.5)\n",
    "  ])\n",
    "}\n",
    "\n",
    "BATCH_SIZE = 3\n",
    "DATA_DIR = 'data/processed/classifier/'\n",
    "TRAIN_DATASET = datasets.ImageFolder(os.path.join(DATA_DIR, 'train'), data_transforms['train'])\n",
    "VAL_DATASET = datasets.ImageFolder(os.path.join(DATA_DIR, 'val'), data_transforms['val'])\n",
    "TEST_DATASET = datasets.ImageFolder(os.path.join(DATA_DIR, 'test'), data_transforms['val'])\n",
    "\n",
    "TRAIN_LOADER = torch.utils.data.DataLoader(TRAIN_DATASET, batch_size = BATCH_SIZE, shuffle = True, num_workers = 2)\n",
    "VAL_LOADER = torch.utils.data.DataLoader(VAL_DATASET, batch_size = BATCH_SIZE, shuffle = True, num_workers = 2)\n",
    "TEST_LOADER = torch.utils.data.DataLoader(TEST_DATASET, batch_size = BATCH_SIZE, shuffle = False, num_workers = 2)\n",
    "\n",
    "device = torch.device(\"cuda:0\" if torch.cuda.is_available() else \"cpu\")\n",
    "\n",
    "class_names = TRAIN_DATASET.classes\n",
    "dataset_sizes = {'train': len(TRAIN_DATASET), 'val': len(VAL_DATASET)}\n",
    "print(f'Dataset size:{dataset_sizes}')\n",
    "print(f'Class names:{class_names}')\n",
    "\n"
   ]
  },
  {
   "cell_type": "code",
   "execution_count": 76,
   "metadata": {},
   "outputs": [
    {
     "name": "stdout",
     "output_type": "stream",
     "text": [
      "torch.Size([3, 1, 1024, 1024])\n",
      "torch.Size([3])\n"
     ]
    }
   ],
   "source": [
    "images, labels = next(iter(TRAIN_LOADER))\n",
    "print(images.shape)\n",
    "print(labels.shape)"
   ]
  },
  {
   "cell_type": "code",
   "execution_count": 96,
   "metadata": {},
   "outputs": [
    {
     "data": {
      "image/png": "[encoded data removed]",
      "text/plain": [
       "<Figure size 1500x500 with 3 Axes>"
      ]
     },
     "metadata": {},
     "output_type": "display_data"
    }
   ],
   "source": [
    "images, labels = next(iter(VAL_LOADER))\n",
    "fig, axs = plt.subplots(1, BATCH_SIZE, figsize=(15, 5))\n",
    "\n",
    "# Loop through the batch and plot each image\n",
    "for i in range(BATCH_SIZE):\n",
    "    axs[i].imshow(images[i].squeeze(0), cmap='gray')  # Display the image\n",
    "    axs[i].axis('off')  # Turn off axis\n",
    "\n",
    "plt.show()"
   ]
  },
  {
   "cell_type": "markdown",
   "metadata": {},
   "source": [
    "Делаем `Average Pooling` над картинкой:"
   ]
  },
  {
   "cell_type": "code",
   "execution_count": 58,
   "metadata": {},
   "outputs": [
    {
     "name": "stdout",
     "output_type": "stream",
     "text": [
      "torch.Size([3, 1, 256, 256])\n"
     ]
    },
    {
     "data": {
      "image/png": "[encoded data removed]",
      "text/plain": [
       "<Figure size 640x480 with 1 Axes>"
      ]
     },
     "metadata": {},
     "output_type": "display_data"
    }
   ],
   "source": [
    "%matplotlib inline\n",
    "avg_pool = nn.AvgPool2d(kernel_size=2, stride=2)\n",
    "result = avg_pool(images)\n",
    "print(result.shape)\n",
    "\n",
    "plt.imshow(result[1].squeeze(0), cmap='gray')\n",
    "plt.axis('off')\n",
    "plt.show()"
   ]
  },
  {
   "cell_type": "markdown",
   "metadata": {},
   "source": [
    "Делаем свёртку:"
   ]
  },
  {
   "cell_type": "code",
   "execution_count": 46,
   "metadata": {},
   "outputs": [
    {
     "name": "stdout",
     "output_type": "stream",
     "text": [
      "torch.Size([3, 1, 512, 512])\n"
     ]
    },
    {
     "data": {
      "image/png": "[encoded data removed]",
      "text/plain": [
       "<Figure size 640x480 with 1 Axes>"
      ]
     },
     "metadata": {},
     "output_type": "display_data"
    }
   ],
   "source": [
    "conv2d = nn.Conv2d(in_channels=1, out_channels=1, kernel_size=3, stride=2, padding=1)\n",
    "conv_result = conv2d(images)\n",
    "\n",
    "print(conv_result.shape)\n",
    "plt.imshow(conv_result[1].detach().numpy().squeeze(0), cmap='gray')\n",
    "plt.axis('off')\n",
    "plt.show()"
   ]
  },
  {
   "cell_type": "code",
   "execution_count": null,
   "metadata": {},
   "outputs": [],
   "source": []
  }
 ],
 "metadata": {
  "kernelspec": {
   "display_name": "mb_opc",
   "language": "python",
   "name": "mb_opc"
  },
  "language_info": {
   "codemirror_mode": {
    "name": "ipython",
    "version": 3
   },
   "file_extension": ".py",
   "mimetype": "text/x-python",
   "name": "python",
   "nbconvert_exporter": "python",
   "pygments_lexer": "ipython3",
   "version": "3.9.20"
  }
 },
 "nbformat": 4,
 "nbformat_minor": 5
}
