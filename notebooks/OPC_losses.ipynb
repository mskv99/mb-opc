{
  "nbformat": 4,
  "nbformat_minor": 0,
  "metadata": {
    "colab": {
      "provenance": []
    },
    "kernelspec": {
      "name": "python3",
      "display_name": "Python 3"
    },
    "language_info": {
      "name": "python"
    }
  },
  "cells": [
    {
      "cell_type": "code",
      "source": [
        "!pip install torchmetrics"
      ],
      "metadata": {
        "id": "laviAkh3kE5X"
      },
      "execution_count": null,
      "outputs": []
    },
    {
      "cell_type": "code",
      "source": [
        "! pip install lpips"
      ],
      "metadata": {
        "id": "rftnlUdEh-5w"
      },
      "execution_count": null,
      "outputs": []
    },
    {
      "cell_type": "code",
      "source": [
        "import sys\n",
        "import os\n",
        "import torch\n",
        "import numpy as np\n",
        "import torch.nn as nn\n",
        "from torchvision import models\n",
        "import torch.nn.functional as F\n",
        "import torchvision.transforms as transforms\n",
        "import matplotlib.pyplot as plt\n",
        "from PIL import Image\n",
        "from torch.utils.data import DataLoader, Dataset"
      ],
      "metadata": {
        "id": "osDpuDO2Zpta"
      },
      "execution_count": null,
      "outputs": []
    },
    {
      "cell_type": "code",
      "source": [
        "from google.colab import drive\n",
        "drive.mount('/content/drive')"
      ],
      "metadata": {
        "colab": {
          "base_uri": "https://localhost:8080/"
        },
        "id": "OMa3gkPbbLpC",
        "outputId": "19e73c64-9932-4e94-83b6-f7a899c6be74"
      },
      "execution_count": null,
      "outputs": [
        {
          "output_type": "stream",
          "name": "stdout",
          "text": [
            "Mounted at /content/drive\n"
          ]
        }
      ]
    },
    {
      "cell_type": "code",
      "source": [
        "!wget --no-check-certificate 'https://docs.google.com/uc?export=download&id=1slbiyvE5gYnaYMkgD42Iwx1u_NhpAv_A' -O loss_selection.zip"
      ],
      "metadata": {
        "colab": {
          "base_uri": "https://localhost:8080/"
        },
        "id": "W5lJwALz94pW",
        "outputId": "fc10615d-ca78-4383-8960-d4d5f5dc49fd"
      },
      "execution_count": null,
      "outputs": [
        {
          "output_type": "stream",
          "name": "stdout",
          "text": [
            "--2025-02-16 09:02:48--  https://docs.google.com/uc?export=download&id=1slbiyvE5gYnaYMkgD42Iwx1u_NhpAv_A\n",
            "Resolving docs.google.com (docs.google.com)... 142.251.170.139, 142.251.170.102, 142.251.170.113, ...\n",
            "Connecting to docs.google.com (docs.google.com)|142.251.170.139|:443... connected.\n",
            "HTTP request sent, awaiting response... 303 See Other\n",
            "Location: https://drive.usercontent.google.com/download?id=1slbiyvE5gYnaYMkgD42Iwx1u_NhpAv_A&export=download [following]\n",
            "--2025-02-16 09:02:49--  https://drive.usercontent.google.com/download?id=1slbiyvE5gYnaYMkgD42Iwx1u_NhpAv_A&export=download\n",
            "Resolving drive.usercontent.google.com (drive.usercontent.google.com)... 108.177.125.132, 2404:6800:4008:c01::84\n",
            "Connecting to drive.usercontent.google.com (drive.usercontent.google.com)|108.177.125.132|:443... connected.\n",
            "HTTP request sent, awaiting response... 200 OK\n",
            "Length: 2813204 (2.7M) [application/octet-stream]\n",
            "Saving to: ‘loss_selection.zip’\n",
            "\n",
            "loss_selection.zip  100%[===================>]   2.68M  --.-KB/s    in 0.03s   \n",
            "\n",
            "2025-02-16 09:02:54 (101 MB/s) - ‘loss_selection.zip’ saved [2813204/2813204]\n",
            "\n"
          ]
        }
      ]
    },
    {
      "cell_type": "code",
      "source": [
        "!unzip loss_selection.zip\n",
        "!rm -r /content/__MACOSX"
      ],
      "metadata": {
        "id": "F4yHxrnOba2y"
      },
      "execution_count": null,
      "outputs": []
    },
    {
      "cell_type": "code",
      "source": [
        "class BinarizeTransform:\n",
        "    def __init__(self, threshold=0.5):\n",
        "        self.threshold = threshold\n",
        "\n",
        "    def __call__(self, tensor):\n",
        "        # Assuming the input tensor is of shape (1, 1, 1024, 1024)\n",
        "        # Convert the tensor to a NumPy array\n",
        "        image_array = tensor.squeeze().numpy()  # Shape will be (1024, 1024)\n",
        "\n",
        "        # Binarize the image\n",
        "        binarized_image = (image_array > self.threshold).astype(np.float32)  # Binary (0 or 1)\n",
        "\n",
        "        # Convert back to tensor and maintain shape (1, 1, 1024, 1024)\n",
        "        return torch.from_numpy(binarized_image).unsqueeze(0)  # Shape will be (1, 1, 1024, 1024)\n",
        "\n",
        "class EvalDataset(Dataset):\n",
        "    def __init__(self, target_dir, mask_dir, transform=None):\n",
        "        self.target_dir = target_dir\n",
        "        self.mask_dir = mask_dir\n",
        "        self.transform = transform\n",
        "        self.images = os.listdir(target_dir)\n",
        "    def __len__(self):\n",
        "        return len(self.images)\n",
        "    def __getitem__(self, index):\n",
        "        target_path = os.path.join(self.target_dir, self.images[index])\n",
        "        mask_path = os.path.join(self.mask_dir, self.images[index])\n",
        "        target = Image.open(target_path)\n",
        "        mask = Image.open(mask_path)\n",
        "\n",
        "        if self.transform:\n",
        "            target = self.transform(target)\n",
        "            mask = self.transform(mask)\n",
        "        return target, mask"
      ],
      "metadata": {
        "id": "fv6V1Lh-ZtRM"
      },
      "execution_count": null,
      "outputs": []
    },
    {
      "cell_type": "code",
      "source": [
        "TARGET_PATH = '/content/loss_selection/gt'\n",
        "MASK_PATH = '/content/loss_selection/pred'\n",
        "BATCH_SIZE = 1\n",
        "\n",
        "TRANSFORM = transforms.Compose([transforms.Resize((1024,1024)),\n",
        "                                transforms.ToTensor(),\n",
        "                                transforms.Grayscale(),\n",
        "                                BinarizeTransform(threshold=0.5)])\n",
        "\n",
        "EVAL_DATASET = EvalDataset(TARGET_PATH, MASK_PATH, transform = TRANSFORM)\n",
        "EVAL_LOADER = DataLoader(EVAL_DATASET, batch_size = BATCH_SIZE, shuffle=True)"
      ],
      "metadata": {
        "id": "mU4kGFy1Z_L-"
      },
      "execution_count": null,
      "outputs": []
    },
    {
      "cell_type": "code",
      "source": [
        "gt, pred = next(iter(EVAL_LOADER))\n",
        "\n",
        "fig, axes = plt.subplots(1, 2, figsize=(10,10))\n",
        "axes[0].imshow(gt.squeeze(), cmap='gray')\n",
        "axes[0].set_title('Ground-truth correction')\n",
        "axes[0].axis('off')\n",
        "\n",
        "axes[1].imshow(pred.squeeze(), cmap='gray')\n",
        "axes[1].set_title('Predicted correction')\n",
        "axes[1].axis('off')\n"
      ],
      "metadata": {
        "colab": {
          "base_uri": "https://localhost:8080/",
          "height": 428
        },
        "id": "aOxuBEAqbm6Z",
        "outputId": "6e67af3b-b0b4-4743-e401-f9460c7c1868"
      },
      "execution_count": null,
      "outputs": [
        {
          "output_type": "execute_result",
          "data": {
            "text/plain": [
              "(-0.5, 1023.5, 1023.5, -0.5)"
            ]
          },
          "metadata": {},
          "execution_count": 35
        },
        {
          "output_type": "display_data",
          "data": {
            "text/plain": [
              "<Figure size 1000x1000 with 2 Axes>"
            ],
            "image/png": "[encoded data removed]"
          },
          "metadata": {}
        }
      ]
    },
    {
      "cell_type": "markdown",
      "source": [
        "## Visualize difference"
      ],
      "metadata": {
        "id": "qos31MT-Dud1"
      }
    },
    {
      "cell_type": "code",
      "source": [
        "plt.figure(figsize=(10, 10))\n",
        "plt.imshow(torch.abs(pred - gt).squeeze().numpy(), vmin=0, vmax=1)\n",
        "plt.axis('off')\n",
        "plt.show()"
      ],
      "metadata": {
        "colab": {
          "base_uri": "https://localhost:8080/",
          "height": 807
        },
        "id": "cf6ip6OpDwzs",
        "outputId": "666d68d7-ea39-4ba7-bb08-e465655895c2"
      },
      "execution_count": null,
      "outputs": [
        {
          "output_type": "display_data",
          "data": {
            "text/plain": [
              "<Figure size 1000x1000 with 1 Axes>"
            ],
            "image/png": "[encoded data removed]"
          },
          "metadata": {}
        }
      ]
    },
    {
      "cell_type": "markdown",
      "source": [
        "## IoU loss"
      ],
      "metadata": {
        "id": "L6ggD1-PeOdr"
      }
    },
    {
      "cell_type": "code",
      "source": [
        "class IouLoss(nn.Module):\n",
        "  def __init__(self, weight=1.0, eps=1e-6):\n",
        "    super(IouLoss, self).__init__()\n",
        "    self.weight = weight\n",
        "    self.eps = eps\n",
        "  def forward(self, pred, target):\n",
        "    intersection = (pred * target).sum(dim=(2, 3))\n",
        "    union = (pred + target).sum(dim=(2, 3)) - intersection\n",
        "    iou = (intersection + self.eps) / (union + self.eps)\n",
        "    return (1 - iou.mean()) * self.weight\n",
        "\n",
        "iou_loss = IouLoss()\n",
        "print(f'IoU loss value:{iou_loss(gt, pred)}')"
      ],
      "metadata": {
        "colab": {
          "base_uri": "https://localhost:8080/"
        },
        "id": "ncU3g4O3eNjv",
        "outputId": "37c7006b-7c74-4882-8afb-411226deefe3"
      },
      "execution_count": null,
      "outputs": [
        {
          "output_type": "stream",
          "name": "stdout",
          "text": [
            "IoU loss value:0.010557770729064941\n"
          ]
        }
      ]
    },
    {
      "cell_type": "markdown",
      "source": [
        "## MAE Loss"
      ],
      "metadata": {
        "id": "_vakwOrreQ8D"
      }
    },
    {
      "cell_type": "code",
      "source": [
        "l1_loss = torch.nn.L1Loss()\n",
        "print(f'L1_loss value: {l1_loss(gt, pred)}')"
      ],
      "metadata": {
        "colab": {
          "base_uri": "https://localhost:8080/"
        },
        "id": "j1ZicOyLfEjD",
        "outputId": "fd3a71be-2653-47b5-c5f6-3f5cf5cc8142"
      },
      "execution_count": null,
      "outputs": [
        {
          "output_type": "stream",
          "name": "stdout",
          "text": [
            "L1_loss value: 0.0010251998901367188\n"
          ]
        }
      ]
    },
    {
      "cell_type": "code",
      "source": [
        "from torchmetrics.image import TotalVariation\n",
        "\n",
        "l1_loss_sum = torch.nn.L1Loss(reduction='sum')\n",
        "l1_loss_mean = torch.nn.L1Loss()\n",
        "\n",
        "l1_score_sum = l1_loss_sum(gt, pred)\n",
        "print(f'L1 sum:{l1_score_sum}')\n",
        "\n",
        "l1_score_mean = l1_loss_mean(gt, pred)\n",
        "print(f'L1 mean:{l1_score_mean}')\n",
        "\n",
        "print(f'Custom calculation #1: {((torch.abs(gt - pred)).sum() / (1024 * 1024))}')\n",
        "print(f'Summ: {torch.abs(gt - pred).sum()}')\n",
        "\n",
        "# normalize by union\n",
        "print(f'Custom calculation #2: {((torch.abs(gt - pred)).sum() / ((torch.abs(gt + pred)).sum()))}')\n",
        "# normalize by intersection\n",
        "print(f'Custom calculation #3: {((torch.abs(gt - pred)).sum() / ((torch.abs(gt * pred)).sum()))}')\n",
        "# normalize by gt area\n",
        "print(f'Custom calculation #4: {(torch.abs(gt - pred)).sum() / ((gt.sum()))}')\n",
        "\n",
        "tv = TotalVariation()\n",
        "print(f'Total Variation for gt: {tv(gt)}')\n",
        "print(f'Total Variation for pred: {tv(pred)}')\n",
        "print(f'Relative: {torch.abs((tv(gt) - tv(pred))) / tv(gt) }')"
      ],
      "metadata": {
        "id": "bc94YMnMaXRs"
      },
      "execution_count": null,
      "outputs": []
    },
    {
      "cell_type": "markdown",
      "source": [
        "## Structural similarity index (SSIM) loss\n",
        "\n",
        "**What It Measures:** SSIM evaluates the perceived quality of an image by comparing luminance, contrast, and structure between the generated and ground-truth images.\n",
        "**Why Use It:** SSIM is better at capturing perceptual differences than pixel-wise metrics like IoU or Pixel Accuracy. It is particularly useful for evaluating the structural similarity of images."
      ],
      "metadata": {
        "id": "uk0kah1wfmQ1"
      }
    },
    {
      "cell_type": "code",
      "execution_count": null,
      "metadata": {
        "id": "fol-5lxYjyIS",
        "colab": {
          "base_uri": "https://localhost:8080/"
        },
        "outputId": "9386f5bd-98b9-4428-ae3d-f5708be129f5"
      },
      "outputs": [
        {
          "output_type": "stream",
          "name": "stdout",
          "text": [
            "SSIM_loss value: 0.9926246404647827\n"
          ]
        }
      ],
      "source": [
        "from torchmetrics.image import StructuralSimilarityIndexMeasure as SSIM\n",
        "\n",
        "ssim = SSIM(data_range=1.0)  # Assuming pixel values are in [0, 1]\n",
        "ssim_score = ssim(pred, gt)\n",
        "print(f'SSIM_loss value: {ssim_score}')"
      ]
    },
    {
      "cell_type": "markdown",
      "source": [
        "## Edge Loss\n",
        "\n",
        "**What It Measures:** These metrics evaluate how well the edges in the generated image match those in the ground-truth image.\n",
        "\n",
        "**Why Use It:** For OPC tasks, preserving sharp edges is critical. Edge preservation metrics can help assess the quality of edge reconstruction\n",
        "\n",
        "**Implementation**:\n",
        "\n",
        "\n",
        "*   Use Sobel or Canny edge detector to extract edges from both generated and ground-truth images\n",
        "*   Compute L1-difference between derived edges\n",
        "*   Two implementations are provided: raw difference between edges and difference normalized by the area of the target itself\n",
        "\n"
      ],
      "metadata": {
        "id": "7d2GAS_fgfBu"
      }
    },
    {
      "cell_type": "code",
      "source": [
        "import torch.nn.functional as F\n",
        "\n",
        "def sobel_edge_detector(image):\n",
        "    kernel_x = torch.tensor([[-1, 0, 1], [-2, 0, 2], [-1, 0, 1]], dtype=torch.float32).view(1, 1, 3, 3).to(image.device)\n",
        "    kernel_y = torch.tensor([[-1, -2, -1], [0, 0, 0], [1, 2, 1]], dtype=torch.float32).view(1, 1, 3, 3).to(image.device)\n",
        "    grad_x = F.conv2d(image, kernel_x, padding=1)\n",
        "    grad_y = F.conv2d(image, kernel_y, padding=1)\n",
        "    return torch.sqrt(grad_x ** 2 + grad_y ** 2)\n",
        "\n",
        "device = torch.device('cuda:0' if torch.cuda.is_available() else 'cpu')\n",
        "edges_pred = sobel_edge_detector(pred)\n",
        "edges_target = sobel_edge_detector(gt)\n",
        "edge_loss_1 = F.l1_loss(edges_pred, edges_target)\n",
        "\n",
        "edge_loss_2 = F.l1_loss(edges_pred, edges_target, reduction='sum')\n",
        "print(f'Edge_loss #1: {edge_loss_1}')\n",
        "print(f'Edge_loss #2: {edge_loss_2}')"
      ],
      "metadata": {
        "colab": {
          "base_uri": "https://localhost:8080/"
        },
        "id": "smwDXvsEgLN6",
        "outputId": "7adc25cf-a245-479f-cae5-85b0f98cc21e"
      },
      "execution_count": null,
      "outputs": [
        {
          "output_type": "stream",
          "name": "stdout",
          "text": [
            "Edge_loss #1: 0.008262952789664268\n",
            "Edge_loss #2: 8664.333984375\n"
          ]
        }
      ]
    },
    {
      "cell_type": "code",
      "source": [
        "class ContourLoss(nn.Module):\n",
        "  def __init__(self, weight=1.0, device='cpu'):\n",
        "    super(ContourLoss, self).__init__()\n",
        "    self.weight = weight\n",
        "    self.device = device\n",
        "    self.sobel_kernel_x = torch.tensor([[1, 0, -1], [2, 0, -2], [1,0,-1]], dtype = torch.float32, device = device).view(1,1,3,3)\n",
        "    self.sobel_kernel_y = torch.tensor([[1,2,1], [0,0,0], [-1, -2, -1]], dtype = torch.float32, device = device).view(1,1,3,3)\n",
        "  def forward(self, pred, target):\n",
        "    target_edge_x = torch.nn.functional.conv2d(target, self.sobel_kernel_x, padding = 1)\n",
        "    target_edge_y = torch.nn.functional.conv2d(target, self.sobel_kernel_y, padding = 1)\n",
        "    target_edge = torch.sqrt(target_edge_x ** 2 + target_edge_y ** 2 + 1e-6)\n",
        "    pred_edge_x = torch.nn.functional.conv2d(pred, self.sobel_kernel_x, padding = 1)\n",
        "    pred_edge_y = torch.nn.functional.conv2d(pred, self.sobel_kernel_y, padding = 1)\n",
        "    pred_edge = torch.sqrt(pred_edge_x ** 2 + pred_edge_y ** 2 + 1e-6)\n",
        "    # calculate difference for every predicted and target correction in a batch\n",
        "    loss_per_image = torch.abs(pred_edge - target_edge).sum(dim=(1,2,3)) # (N, ), sum over height, width and channels\n",
        "    # calculate the contour area for every target correction in a batch\n",
        "    target_edge_sum = target_edge.sum(dim=(1,2,3)) + 1e-6 # (N, ) sum over height, width, and prevent division by zero\n",
        "    # normalise the difference by the contour area of target correction\n",
        "    mean_loss = (loss_per_image / target_edge_sum) * self.weight\n",
        "    # return mean value over a batch\n",
        "    return mean_loss.mean()\n",
        "contour_loss = ContourLoss()\n",
        "print(f'Contour Loss value: {contour_loss(pred, gt)}')"
      ],
      "metadata": {
        "colab": {
          "base_uri": "https://localhost:8080/"
        },
        "id": "813OF3YuM-eg",
        "outputId": "f81cdc40-01a3-4967-9d4f-6cc19ffc47fd"
      },
      "execution_count": null,
      "outputs": [
        {
          "output_type": "stream",
          "name": "stdout",
          "text": [
            "Contour Loss value: 0.2712148129940033\n"
          ]
        }
      ]
    },
    {
      "cell_type": "markdown",
      "source": [
        "## Perceptual Loss\n",
        "\n",
        "**What It Measures:** LPIPS (Learned Perceptual Image Patch Similarity) uses a pre-trained neural network (e.g., VGG) to compare the perceptual similarity between images\n",
        "\n",
        "**Why Use It:** LPIPS captures high-level features and is more aligned with human perception than pixel-wise metrics"
      ],
      "metadata": {
        "id": "zyrbUgP2h6tz"
      }
    },
    {
      "cell_type": "code",
      "source": [
        "import lpips\n",
        "\n",
        "lpips_loss_vgg = lpips.LPIPS(net='vgg')  # Use 'alex' or 'vgg'\n",
        "lpips_loss_alex = lpips.LPIPS(net='alex')\n",
        "\n",
        "lpips_score_vgg = lpips_loss_vgg(pred, gt)\n",
        "lpips_score_alex = lpips_loss_alex(pred, gt)\n",
        "\n",
        "print(f'Perceptual Loss value (VGG): {lpips_score_vgg}')\n",
        "print(f'Perceptual Loss value (AlexNet): {lpips_score_alex}')"
      ],
      "metadata": {
        "colab": {
          "base_uri": "https://localhost:8080/"
        },
        "id": "XdhE41ElhON5",
        "outputId": "6f1477d0-f081-4dbc-8a50-f50057f82c21"
      },
      "execution_count": null,
      "outputs": [
        {
          "output_type": "stream",
          "name": "stdout",
          "text": [
            "Setting up [LPIPS] perceptual loss: trunk [vgg], v[0.1], spatial [off]\n"
          ]
        },
        {
          "output_type": "stream",
          "name": "stderr",
          "text": [
            "/usr/local/lib/python3.11/dist-packages/torchvision/models/_utils.py:208: UserWarning: The parameter 'pretrained' is deprecated since 0.13 and may be removed in the future, please use 'weights' instead.\n",
            "  warnings.warn(\n",
            "/usr/local/lib/python3.11/dist-packages/torchvision/models/_utils.py:223: UserWarning: Arguments other than a weight enum or `None` for 'weights' are deprecated since 0.13 and may be removed in the future. The current behavior is equivalent to passing `weights=VGG16_Weights.IMAGENET1K_V1`. You can also use `weights=VGG16_Weights.DEFAULT` to get the most up-to-date weights.\n",
            "  warnings.warn(msg)\n"
          ]
        },
        {
          "output_type": "stream",
          "name": "stdout",
          "text": [
            "Loading model from: /usr/local/lib/python3.11/dist-packages/lpips/weights/v0.1/vgg.pth\n",
            "Setting up [LPIPS] perceptual loss: trunk [alex], v[0.1], spatial [off]\n"
          ]
        },
        {
          "output_type": "stream",
          "name": "stderr",
          "text": [
            "/usr/local/lib/python3.11/dist-packages/lpips/lpips.py:107: FutureWarning: You are using `torch.load` with `weights_only=False` (the current default value), which uses the default pickle module implicitly. It is possible to construct malicious pickle data which will execute arbitrary code during unpickling (See https://github.com/pytorch/pytorch/blob/main/SECURITY.md#untrusted-models for more details). In a future release, the default value for `weights_only` will be flipped to `True`. This limits the functions that could be executed during unpickling. Arbitrary objects will no longer be allowed to be loaded via this mode unless they are explicitly allowlisted by the user via `torch.serialization.add_safe_globals`. We recommend you start setting `weights_only=True` for any use case where you don't have full control of the loaded file. Please open an issue on GitHub for any issues related to this experimental feature.\n",
            "  self.load_state_dict(torch.load(model_path, map_location='cpu'), strict=False)\n",
            "/usr/local/lib/python3.11/dist-packages/torchvision/models/_utils.py:223: UserWarning: Arguments other than a weight enum or `None` for 'weights' are deprecated since 0.13 and may be removed in the future. The current behavior is equivalent to passing `weights=AlexNet_Weights.IMAGENET1K_V1`. You can also use `weights=AlexNet_Weights.DEFAULT` to get the most up-to-date weights.\n",
            "  warnings.warn(msg)\n"
          ]
        },
        {
          "output_type": "stream",
          "name": "stdout",
          "text": [
            "Loading model from: /usr/local/lib/python3.11/dist-packages/lpips/weights/v0.1/alex.pth\n",
            "Perceptual Loss value (VGG): tensor([[[[0.0153]]]], grad_fn=<AddBackward0>)\n",
            "Perceptual Loss value (AlexNet): tensor([[[[0.0135]]]], grad_fn=<AddBackward0>)\n"
          ]
        }
      ]
    },
    {
      "cell_type": "markdown",
      "source": [
        "## Frechet Inception distance\n",
        "\n",
        "**What It Measures:** FID evaluates the quality of generated images by comparing the distribution of features extracted from a pre-trained Inception network.\n",
        "\n",
        "**Why Use It:** FID is widely used in generative models to assess the realism and diversity of generated images\n",
        "\n",
        "*thrown an error, seems to be working with RGB images*"
      ],
      "metadata": {
        "id": "vRBgbhkbj0L4"
      }
    },
    {
      "cell_type": "code",
      "source": [
        "!pip install torch-fidelity"
      ],
      "metadata": {
        "id": "lBGpEYKdkHLk"
      },
      "execution_count": null,
      "outputs": []
    },
    {
      "cell_type": "code",
      "source": [
        "from torchmetrics.image.fid import FrechetInceptionDistance\n",
        "\n",
        "fid = FrechetInceptionDistance(feature=2048)  # Use feature=768 for Inception v3\n",
        "fid.update(torch.tensor(pred, dtype=torch.uint8), real=False)\n",
        "fid.update(torch.tensor(gt, dtype=torch.uint8), real=True)\n",
        "fid_score = fid.compute()\n",
        "print(f'Frechet loss value:{fid_score}')"
      ],
      "metadata": {
        "id": "SDJvGuqDjGkr"
      },
      "execution_count": null,
      "outputs": []
    },
    {
      "cell_type": "markdown",
      "source": [
        "## Dice coefficient\n",
        "\n",
        "**What It Measures:** The Dice coefficient is similar to IoU but is more sensitive to overlapping regions.\n",
        "\n",
        "**Why Use It:** It is commonly used in medical imaging and segmentation tasks to evaluate overlap between predicted and ground-truth masks"
      ],
      "metadata": {
        "id": "V9HeRV6_mq_w"
      }
    },
    {
      "cell_type": "code",
      "source": [
        "def dice_coefficient(pred, target, eps=1e-6):\n",
        "    intersection = (pred * target).sum()\n",
        "    union = pred.sum() + target.sum()\n",
        "    return (2 * intersection + eps) / (union + eps)\n",
        "\n",
        "dice_score = dice_coefficient(pred, gt)\n",
        "print(f'Dice score: {dice_score}')\n",
        "print(f'Dice loss: {1 - dice_score}')"
      ],
      "metadata": {
        "colab": {
          "base_uri": "https://localhost:8080/"
        },
        "id": "Wm6Tnt24kCzC",
        "outputId": "8a92e1b3-0204-4918-b645-01cf51db44f5"
      },
      "execution_count": null,
      "outputs": [
        {
          "output_type": "stream",
          "name": "stdout",
          "text": [
            "Dice score: 0.9946931004524231\n",
            "Dice loss: 0.005306899547576904\n"
          ]
        }
      ]
    },
    {
      "cell_type": "markdown",
      "source": [
        "## Fourier loss\n",
        "\n",
        "Seems to be the best solution!!!\n",
        "\n",
        "> Since your enhancer network is struggling with small pixel-level distortions and edge artifacts, a frequency-domain approach might help by removing high-frequency noise and preserving the structure. Here’s how you can integrate Fourier Transform-based loss functions into your training.\n",
        "\n",
        "🔹 Why Use Frequency Domain Processing?\n",
        "\n",
        "1️⃣ Edge distortions often appear as high-frequency components → Can be suppressed in the frequency domain\n",
        "\n",
        "2️⃣ Important structural features (shapes, contours) have low-frequency components → Should be preserved\n",
        "\n",
        "3️⃣ Pixel-wise losses (L1, L2) focus on spatial similarity, but frequency loss captures structural consistency\n",
        "\n",
        "\n",
        "\n",
        "🔹 How to Convert an Image to the Frequency Domain?\n",
        "\n",
        "The Fourier Transform (FFT) decomposes an image into frequency components:\n",
        "\n",
        "\t•\tLow frequencies → Large-scale structures (overall shape)\n",
        "\t•\tHigh frequencies → Fine details (sharp edges, noise, artifacts)\n"
      ],
      "metadata": {
        "id": "l4NaNxpmkGxE"
      }
    },
    {
      "cell_type": "code",
      "source": [
        "def to_frequency_domain(image):\n",
        "  '''\n",
        "  obtain the magnitude spectrum which tells us the strength of different\n",
        "  frequency components\n",
        "  '''\n",
        "  fft = torch.fft.fft2(image) # Compute 2d Fourier transform\n",
        "  fft_shift = torch.fft.fftshift(fft) # Shift zero frequency to center\n",
        "  magnitude = torch.abs(fft_shift) # Get magnitude spectrum\n",
        "\n",
        "  return magnitude\n",
        "\n",
        "def fourier_loss(pred, target):\n",
        "  pred_freq = to_frequency_domain(pred)\n",
        "  target_freq = to_frequency_domain(target)\n",
        "\n",
        "  return F.l1_loss(pred_freq, target_freq)\n",
        "\n",
        "print(f'Fourier loss: {fourier_loss(pred, gt)}')"
      ],
      "metadata": {
        "colab": {
          "base_uri": "https://localhost:8080/"
        },
        "id": "f36cBl4LkJKo",
        "outputId": "b9f4c575-7849-44c4-8194-84d8c3c774b1"
      },
      "execution_count": null,
      "outputs": [
        {
          "output_type": "stream",
          "name": "stdout",
          "text": [
            "Fourier loss: 10.269524574279785\n"
          ]
        }
      ]
    },
    {
      "cell_type": "code",
      "source": [
        "def high_pass_filter(freq_image, threshold=20):\n",
        "  \"\"\"\n",
        "  Zero out  low-frequency components below the threshold\n",
        "  \"\"\"\n",
        "  _, _, h, w = freq_image.shape\n",
        "  center_h ,center_w = h // 2, w // 2\n",
        "  mask = torch.ones_like(freq_image)\n",
        "  mask[:, :, center_h-threshold:center_h+threshold, center_w-threshold:center_w+threshold] = 0\n",
        "  return freq_image * mask\n",
        "\n",
        "def high_frequency_loss(pred, target):\n",
        "  pred_freq = to_frequency_domain(pred)\n",
        "  target_freq = to_frequency_domain(target)\n",
        "\n",
        "  pred_high = high_pass_filter(pred_freq)\n",
        "  target_high = high_pass_filter(target_freq)\n",
        "\n",
        "  return F.l1_loss(pred_high, target_high)\n",
        "print(f'High frequency loss: {high_frequency_loss(pred, gt)}')"
      ],
      "metadata": {
        "colab": {
          "base_uri": "https://localhost:8080/"
        },
        "id": "30IiGZyMlj8v",
        "outputId": "76c83882-d6b5-4f41-f422-61f4bc952748"
      },
      "execution_count": null,
      "outputs": [
        {
          "output_type": "stream",
          "name": "stdout",
          "text": [
            "High frequency loss: 10.149885177612305\n"
          ]
        }
      ]
    }
  ]
}